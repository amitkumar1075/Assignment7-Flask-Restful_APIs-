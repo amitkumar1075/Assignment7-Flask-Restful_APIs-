{
 "cells": [
  {
   "cell_type": "markdown",
   "id": "aeb2cc71-a5eb-4ed8-98b5-299708096d9c",
   "metadata": {},
   "source": [
    "**Theory Questions**"
   ]
  },
  {
   "cell_type": "code",
   "execution_count": null,
   "id": "b0eb8730-fa82-4345-8a5d-84732b87cb4c",
   "metadata": {},
   "outputs": [],
   "source": [
    "#1.What is a RESTful API \n",
    "\n",
    "#ans.>>A RESTful API (Representational State Transfer API) is a web service that follows REST architectural principles to allow communication between \n",
    "#      client and server using standard HTTP methods (GET, POST, PUT, DELETE).\n",
    "#      It's stateless, resource-based, and typically uses JSON for data exchange."
   ]
  },
  {
   "cell_type": "code",
   "execution_count": null,
   "id": "5f041e82-876f-45a9-b523-a36bc0508065",
   "metadata": {},
   "outputs": [],
   "source": [
    "#2.Explain the concept of API specification \n",
    "\n",
    "#ans.>>An API specification defines how an API behaves — its endpoints, request/response formats, authentication, status codes, etc. \n",
    "#     It helps developers understand how to interact with the API"
   ]
  },
  {
   "cell_type": "code",
   "execution_count": null,
   "id": "44b50a2f-06da-4137-a05b-b1f424130e09",
   "metadata": {},
   "outputs": [],
   "source": [
    "#3.What is Flask, and why is it popular for building APIs \n",
    "\n",
    "#ans.>>Flask is a lightweight Python web framework. It’s popular for APIs because:\n",
    "#        1.It's simple and minimal.\n",
    "#        2.Easy to learn and use.\n",
    "#        3.Supports extensions like Flask-RESTful, Flask-SQLAlchemy, etc.\n",
    "#        4.Gives full control over request handling and routing."
   ]
  },
  {
   "cell_type": "code",
   "execution_count": null,
   "id": "6594edcf-f954-4511-a1c7-e2e5f9de41da",
   "metadata": {},
   "outputs": [],
   "source": [
    "#4.What is routing in Flask \n",
    "\n",
    "#ans.>>Routing is the mechanism of mapping URLs to Python functions."
   ]
  },
  {
   "cell_type": "code",
   "execution_count": null,
   "id": "d19f2c46-e9f5-4250-bd9d-ea2404663483",
   "metadata": {},
   "outputs": [],
   "source": [
    "#5.How do you create a simple Flask application \n",
    "\n",
    "#ans.>>To create a simple Flask app, you import Flask, create an app object, define a route using @app.route(), and return a response. \n",
    "#     Then, you run the app using app.run().\n",
    "\n"
   ]
  },
  {
   "cell_type": "code",
   "execution_count": null,
   "id": "60bfc1c4-00fd-4784-8452-27a56fbcfc78",
   "metadata": {},
   "outputs": [],
   "source": [
    "#6.What are HTTP methods used in RESTful APIs \n",
    "\n",
    "#ans.>> these are the HTTP method which is used in Restful APIs :-\n",
    "#         1.GET: Retrieve data.\n",
    "#         2.POST: Submit new data.\n",
    "#         3.PUT: Update existing data.\n",
    "#         4.DELETE: Remove data.\n",
    "#         5.PATCH: Partially update data.\n",
    "\n"
   ]
  },
  {
   "cell_type": "code",
   "execution_count": null,
   "id": "a7e8ca2c-a4ad-47b3-a9e7-39ee0a878119",
   "metadata": {},
   "outputs": [],
   "source": [
    "#7.What is the purpose of the @app.route() decorator in Flask \n",
    "\n",
    "#ans.>> It maps a URL endpoint to a function. When the specified URL is visited, the corresponding function runs."
   ]
  },
  {
   "cell_type": "code",
   "execution_count": null,
   "id": "a30839e8-19f8-4d63-8b87-35f3c7a6680e",
   "metadata": {},
   "outputs": [],
   "source": [
    "#8.What is the difference between GET and POST HTTP methods\n",
    "\n",
    "#ans.>>GET is used to request data from the server and shows data in the URL.\n",
    "#      POST is used to send data to the server and hides data in the request body."
   ]
  },
  {
   "cell_type": "code",
   "execution_count": null,
   "id": "e1bb6be0-ed4b-46ba-b625-a440390771b5",
   "metadata": {},
   "outputs": [],
   "source": [
    "#9.How do you handle errors in Flask APIs \n",
    "\n",
    "#ans.>>Use @app.errorhandler or return custom JSON"
   ]
  },
  {
   "cell_type": "code",
   "execution_count": null,
   "id": "1c3a0d2c-58f6-43bc-87af-3de48188afa6",
   "metadata": {},
   "outputs": [],
   "source": [
    "#10.How do you connect Flask to a SQL database \n",
    "\n",
    "#ans.>>To connect Flask to a SQL database, you use an extension like Flask-SQLAlchemy.\n",
    "#      It lets you define the database URL in your app settings and interact with the database using Python code instead of writing SQL manually."
   ]
  },
  {
   "cell_type": "code",
   "execution_count": null,
   "id": "320b74ca-8a7b-432a-97af-e837b3a658ac",
   "metadata": {},
   "outputs": [],
   "source": [
    "#11.What is the role of Flask-SQLAlchemy \n",
    "\n",
    "#ans.>> It's an ORM (Object-Relational Mapper) extension that simplifies interaction with databases by using Python classes to represent tables."
   ]
  },
  {
   "cell_type": "code",
   "execution_count": null,
   "id": "79067aaf-0c94-40b8-8077-6436c177cdfb",
   "metadata": {},
   "outputs": [],
   "source": [
    "#12.What are Flask blueprints, and how are they useful \n",
    "\n",
    "#ans.>>Blueprints help modularize large applications into smaller components"
   ]
  },
  {
   "cell_type": "code",
   "execution_count": null,
   "id": "6f98b215-c0f3-4fc0-a3fd-4b4ebe8e2929",
   "metadata": {},
   "outputs": [],
   "source": [
    "#13.What is the purpose of Flask's request object \n",
    "\n",
    "#ans.>>It allows you to access data sent by the client"
   ]
  },
  {
   "cell_type": "code",
   "execution_count": null,
   "id": "ad7fcfed-ef1c-4939-9d34-9b0de94f8232",
   "metadata": {},
   "outputs": [],
   "source": [
    "#14.How do you create a RESTful API endpoint using Flask \n",
    "\n",
    "#ans.>>In Flask, a RESTful API endpoint is created by defining a route using @app.route() and writing a function to handle requests. \n",
    "#      The route represents a URL, and the function returns a response like data in JSON format. \n",
    "#      You can specify which HTTP methods (GET, POST, etc.) the endpoint should accept."
   ]
  },
  {
   "cell_type": "code",
   "execution_count": null,
   "id": "f8d41d41-cc80-442f-8fa1-61c473ec8062",
   "metadata": {},
   "outputs": [],
   "source": [
    "#15.What is the purpose of Flask's jsonify() function \n",
    "\n",
    "#ans.>>It converts Python dictionaries or lists into JSON responses with proper headers"
   ]
  },
  {
   "cell_type": "code",
   "execution_count": null,
   "id": "65d26a0b-f205-4705-ba0b-ee6a5e8f7a24",
   "metadata": {},
   "outputs": [],
   "source": [
    "#16.Explain Flask’s url_for() function \n",
    "\n",
    "#ans.>>Generates a URL from the function name. Helps avoid hardcoding URLs"
   ]
  },
  {
   "cell_type": "code",
   "execution_count": null,
   "id": "2f2f3180-a349-45bd-96a1-2cd4b4e30298",
   "metadata": {},
   "outputs": [],
   "source": [
    "#17.How does Flask handle static files (CSS, JavaScript, etc.) \n",
    "\n",
    "#ans.>>Flask serves static files from the /static folder by default"
   ]
  },
  {
   "cell_type": "code",
   "execution_count": null,
   "id": "a0893075-465b-4678-9b2a-4c8b5a8bf7e1",
   "metadata": {},
   "outputs": [],
   "source": [
    "#18.What is an API specification, and how does it help in building a Flask API\n",
    "\n",
    "#ans.>>As above, it ensures consistent development and communication by defining:\n",
    "#        1.Endpoints\n",
    "#        2.Request/response structure\n",
    "#        3.Error messages\n",
    "#        4.Authentication methods"
   ]
  },
  {
   "cell_type": "code",
   "execution_count": null,
   "id": "082cff8b-9341-45e4-862a-22a472c9e2c7",
   "metadata": {},
   "outputs": [],
   "source": [
    "#19.What are HTTP status codes, and why are they important in a Flask API \n",
    "\n",
    "#ans.>>They indicate the result of an HTTP request:\n",
    "#        1.200 OK: Success\n",
    "#        2.201 Created: New resource added\n",
    "#        3.400 Bad Request: Client error\n",
    "#        4.404 Not Found\n",
    "#        5.500 Internal Server Error"
   ]
  },
  {
   "cell_type": "code",
   "execution_count": null,
   "id": "cf2a4e60-047c-441a-8eb9-bfef9c2225a7",
   "metadata": {},
   "outputs": [],
   "source": [
    "#20.How do you handle POST requests in Flask \n",
    "\n",
    "#ans.>>In Flask, POST requests are used to send data from the client to the server. \n",
    "#      To handle a POST request, you create a route with methods=['POST'] and use the request object to access the data sent. \n",
    "#      POST is commonly used to submit forms or add new data.\n",
    "\n"
   ]
  },
  {
   "cell_type": "code",
   "execution_count": null,
   "id": "f7b41a71-9c67-4858-826a-7c6d5c4b8dfb",
   "metadata": {},
   "outputs": [],
   "source": [
    "#21.How would you secure a Flask API \n",
    "\n",
    "#ans.>>Use HTTPS.\n",
    "#      1.Validate and sanitize inputs.\n",
    "#      2.Use API keys or JWT tokens.\n",
    "#      3.Implement rate limiting.\n",
    "#      4.Use CORS settings to restrict access."
   ]
  },
  {
   "cell_type": "code",
   "execution_count": null,
   "id": "7ed5c407-bf8c-48ce-af57-02a10bcb46d2",
   "metadata": {},
   "outputs": [],
   "source": [
    "#22.What is the significance of the Flask-RESTful extension \n",
    "\n",
    "#ans.>>It simplifies the creation of RESTful APIs by using:\n",
    "#      1.Class-based views\n",
    "#      2.Automatic HTTP method routing\n",
    "#      3.Built-in request parsing"
   ]
  },
  {
   "cell_type": "code",
   "execution_count": null,
   "id": "c0422c8e-d8af-4b9b-902b-9474620a2b2a",
   "metadata": {},
   "outputs": [],
   "source": [
    "#23.What is the role of Flask’s session object?\n",
    "\n",
    "#ans.>>It allows server-side storage of user-specific data across requests using secure cookies"
   ]
  }
 ],
 "metadata": {
  "kernelspec": {
   "display_name": "Python [conda env:base] *",
   "language": "python",
   "name": "conda-base-py"
  },
  "language_info": {
   "codemirror_mode": {
    "name": "ipython",
    "version": 3
   },
   "file_extension": ".py",
   "mimetype": "text/x-python",
   "name": "python",
   "nbconvert_exporter": "python",
   "pygments_lexer": "ipython3",
   "version": "3.12.7"
  }
 },
 "nbformat": 4,
 "nbformat_minor": 5
}
